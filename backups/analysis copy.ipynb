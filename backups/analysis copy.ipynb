{
 "cells": [
  {
   "attachments": {},
   "cell_type": "markdown",
   "metadata": {},
   "source": [
    "# Search Term to Classification Analysis\n",
    "\n",
    "### Goal: \n",
    "\n",
    "- Built a model that gets reasonable micro & macro recall on a test set for the multiple class labels involved. \n",
    "\n",
    "### Metrics:\n",
    "\n",
    "- Recall Overall & Across Classes\n",
    "  - Micro\n",
    "  - Macro\n",
    "\n",
    "### Assumptions\n",
    "\n",
    "- To figure out what the classes represented, I looked at a couple of the classes and came to the assumption that the classes represent the TYPE of item(s) that are being searched. \n",
    "  - I analyzed these 25 at a time.\n",
    "\n",
    "\n",
    "### Issues\n",
    "\n",
    "- Special characters are important. For example 3\" means \"three inches\" and these can be entered in any number of ways like \" '' \" and \"inch\" and \"in\".\n",
    "  - Way to fix this might be to use a custom tokenizer that learns what symbols are grouped together and then have the tokenizer combine the tokens togehter."
   ]
  },
  {
   "cell_type": "code",
   "execution_count": 1,
   "metadata": {},
   "outputs": [
    {
     "name": "stderr",
     "output_type": "stream",
     "text": [
      "/home/programming/miniconda3/envs/grainger/lib/python3.10/site-packages/numba/core/decorators.py:262: NumbaDeprecationWarning: numba.generated_jit is deprecated. Please see the documentation at: https://numba.readthedocs.io/en/stable/reference/deprecation.html#deprecation-of-generated-jit for more information and advice on a suitable replacement.\n",
      "  warnings.warn(msg, NumbaDeprecationWarning)\n",
      "/home/programming/miniconda3/envs/grainger/lib/python3.10/site-packages/visions/backends/shared/nan_handling.py:51: NumbaDeprecationWarning: The 'nopython' keyword argument was not supplied to the 'numba.jit' decorator. The implicit default value for this argument is currently False, but it will be changed to True in Numba 0.59.0. See https://numba.readthedocs.io/en/stable/reference/deprecation.html#deprecation-of-object-mode-fall-back-behaviour-when-using-jit for details.\n",
      "  def hasna(x: np.ndarray) -> bool:\n"
     ]
    }
   ],
   "source": [
    "%load_ext autoreload\n",
    "%autoreload 2\n",
    "\n",
    "import matplotlib.pyplot as plt\n",
    "import seaborn as sns\n",
    "import sqlite3 as sql\n",
    "from ydata_profiling import ProfileReport\n",
    "import modin.pandas as pd\n",
    "import modin.config as modin_config\n",
    "\n",
    "modin_config.Engine.put(\"dask\")"
   ]
  },
  {
   "cell_type": "code",
   "execution_count": 2,
   "metadata": {},
   "outputs": [
    {
     "name": "stderr",
     "output_type": "stream",
     "text": [
      "UserWarning: Dask execution environment not yet initialized. Initializing...\n",
      "To remove this warning, run the following python code before doing dataframe operations:\n",
      "\n",
      "    from distributed import Client\n",
      "\n",
      "    client = Client()\n",
      "\n",
      "UserWarning: `read_sql_query` is not currently supported by PandasOnDask, defaulting to pandas implementation.\n",
      "Please refer to https://modin.readthedocs.io/en/stable/supported_apis/defaulting_to_pandas.html for explanation.\n"
     ]
    }
   ],
   "source": [
    "conn = sql.connect('../data/grainger.db')\n",
    "searches_class = pd.read_sql_query(\"\"\"SELECT * FROM search_terms\"\"\", con=conn, dtype=object)"
   ]
  },
  {
   "cell_type": "code",
   "execution_count": 3,
   "metadata": {},
   "outputs": [
    {
     "data": {
      "text/html": [
       "<div>\n",
       "<style scoped>\n",
       "    .dataframe tbody tr th:only-of-type {\n",
       "        vertical-align: middle;\n",
       "    }\n",
       "\n",
       "    .dataframe tbody tr th {\n",
       "        vertical-align: top;\n",
       "    }\n",
       "\n",
       "    .dataframe thead th {\n",
       "        text-align: right;\n",
       "    }\n",
       "</style>\n",
       "<table border=\"1\" class=\"dataframe\">\n",
       "  <thead>\n",
       "    <tr style=\"text-align: right;\">\n",
       "      <th></th>\n",
       "      <th>search_term</th>\n",
       "      <th>class</th>\n",
       "    </tr>\n",
       "  </thead>\n",
       "  <tbody>\n",
       "    <tr>\n",
       "      <th>count</th>\n",
       "      <td>6128528</td>\n",
       "      <td>6128532</td>\n",
       "    </tr>\n",
       "    <tr>\n",
       "      <th>unique</th>\n",
       "      <td>5717834</td>\n",
       "      <td>485</td>\n",
       "    </tr>\n",
       "    <tr>\n",
       "      <th>top</th>\n",
       "      <td>products</td>\n",
       "      <td>ID_699068447</td>\n",
       "    </tr>\n",
       "    <tr>\n",
       "      <th>freq</th>\n",
       "      <td>442</td>\n",
       "      <td>283833</td>\n",
       "    </tr>\n",
       "  </tbody>\n",
       "</table>\n",
       "</div>"
      ],
      "text/plain": [
       "       search_term         class\n",
       "count      6128528       6128532\n",
       "unique     5717834           485\n",
       "top       products  ID_699068447\n",
       "freq           442        283833"
      ]
     },
     "execution_count": 3,
     "metadata": {},
     "output_type": "execute_result"
    }
   ],
   "source": [
    "searches_class.describe()"
   ]
  },
  {
   "attachments": {},
   "cell_type": "markdown",
   "metadata": {},
   "source": [
    "# Sample of Pandas Profiling - Doesn't Work With Large Dataset"
   ]
  },
  {
   "cell_type": "code",
   "execution_count": 4,
   "metadata": {},
   "outputs": [],
   "source": [
    "# profile = ProfileReport(searches_class.sample(100000), minimal=True)\n",
    "# profile.to_file('./outputs/profile/raw_data.html')"
   ]
  },
  {
   "attachments": {},
   "cell_type": "markdown",
   "metadata": {},
   "source": [
    "# Simple Exploration"
   ]
  },
  {
   "cell_type": "code",
   "execution_count": 5,
   "metadata": {},
   "outputs": [
    {
     "data": {
      "text/html": [
       "<div>\n",
       "<style scoped>\n",
       "    .dataframe tbody tr th:only-of-type {\n",
       "        vertical-align: middle;\n",
       "    }\n",
       "\n",
       "    .dataframe tbody tr th {\n",
       "        vertical-align: top;\n",
       "    }\n",
       "\n",
       "    .dataframe thead th {\n",
       "        text-align: right;\n",
       "    }\n",
       "</style>\n",
       "<table border=\"1\" class=\"dataframe\">\n",
       "  <thead>\n",
       "    <tr style=\"text-align: right;\">\n",
       "      <th></th>\n",
       "      <th>search_term</th>\n",
       "      <th>class</th>\n",
       "    </tr>\n",
       "  </thead>\n",
       "  <tbody>\n",
       "    <tr>\n",
       "      <th>520101</th>\n",
       "      <td>bulkhead air fitting,11g338,2019-11-13 14:55:...</td>\n",
       "      <td>ID_478704241</td>\n",
       "    </tr>\n",
       "    <tr>\n",
       "      <th>5846546</th>\n",
       "      <td>ductless sp</td>\n",
       "      <td>ID_603406551</td>\n",
       "    </tr>\n",
       "    <tr>\n",
       "      <th>4638134</th>\n",
       "      <td>rheem pressure switch 0.35\" pf spst</td>\n",
       "      <td>ID_832485429</td>\n",
       "    </tr>\n",
       "    <tr>\n",
       "      <th>3773803</th>\n",
       "      <td>9w fan motor</td>\n",
       "      <td>ID_680112272</td>\n",
       "    </tr>\n",
       "    <tr>\n",
       "      <th>2454892</th>\n",
       "      <td>ss compression tee</td>\n",
       "      <td>ID_946477099</td>\n",
       "    </tr>\n",
       "    <tr>\n",
       "      <th>3323492</th>\n",
       "      <td>1/2\" x 1.25\" reducer</td>\n",
       "      <td>ID_946477099</td>\n",
       "    </tr>\n",
       "    <tr>\n",
       "      <th>1249856</th>\n",
       "      <td>3/4 spiral fluted tapered chucking reamer</td>\n",
       "      <td>ID_285483094</td>\n",
       "    </tr>\n",
       "    <tr>\n",
       "      <th>1724608</th>\n",
       "      <td>irwin 5/32 screw extractor</td>\n",
       "      <td>ID_787114333</td>\n",
       "    </tr>\n",
       "    <tr>\n",
       "      <th>3458309</th>\n",
       "      <td>12 mm compress fitting</td>\n",
       "      <td>ID_946477099</td>\n",
       "    </tr>\n",
       "    <tr>\n",
       "      <th>554619</th>\n",
       "      <td>sf-43</td>\n",
       "      <td>ID_6076552</td>\n",
       "    </tr>\n",
       "    <tr>\n",
       "      <th>5880009</th>\n",
       "      <td>press 1\" tee</td>\n",
       "      <td>ID_946477099</td>\n",
       "    </tr>\n",
       "    <tr>\n",
       "      <th>2953889</th>\n",
       "      <td>1/8\" female pipe x 1/8\" female pipe</td>\n",
       "      <td>ID_946477099</td>\n",
       "    </tr>\n",
       "    <tr>\n",
       "      <th>5993923</th>\n",
       "      <td>building wire with thhn wire type and 12 awg w...</td>\n",
       "      <td>ID_722034336</td>\n",
       "    </tr>\n",
       "    <tr>\n",
       "      <th>1521719</th>\n",
       "      <td>button head coupler</td>\n",
       "      <td>ID_425375100</td>\n",
       "    </tr>\n",
       "    <tr>\n",
       "      <th>359109</th>\n",
       "      <td>stainless 1/2 inch turnbuckles</td>\n",
       "      <td>ID_818742522</td>\n",
       "    </tr>\n",
       "    <tr>\n",
       "      <th>5857334</th>\n",
       "      <td>ph buffer solution gallon</td>\n",
       "      <td>ID_4186269</td>\n",
       "    </tr>\n",
       "    <tr>\n",
       "      <th>6006641</th>\n",
       "      <td>heat shrink pipe clamp</td>\n",
       "      <td>ID_408502959</td>\n",
       "    </tr>\n",
       "    <tr>\n",
       "      <th>1495941</th>\n",
       "      <td>barrel carts</td>\n",
       "      <td>ID_537581993</td>\n",
       "    </tr>\n",
       "    <tr>\n",
       "      <th>2854915</th>\n",
       "      <td>bell and gosset spring</td>\n",
       "      <td>ID_348174888</td>\n",
       "    </tr>\n",
       "    <tr>\n",
       "      <th>4682361</th>\n",
       "      <td>hobbs 12v hour meter</td>\n",
       "      <td>ID_337225844</td>\n",
       "    </tr>\n",
       "    <tr>\n",
       "      <th>873277</th>\n",
       "      <td>seculife st base(25)</td>\n",
       "      <td>ID_710552567</td>\n",
       "    </tr>\n",
       "    <tr>\n",
       "      <th>4553790</th>\n",
       "      <td>versa-king</td>\n",
       "      <td>ID_699945089</td>\n",
       "    </tr>\n",
       "    <tr>\n",
       "      <th>959447</th>\n",
       "      <td>ty2002-3</td>\n",
       "      <td>ID_209028105</td>\n",
       "    </tr>\n",
       "    <tr>\n",
       "      <th>4596354</th>\n",
       "      <td>steel contact burnisher file extra sensitive o...</td>\n",
       "      <td>ID_699068447</td>\n",
       "    </tr>\n",
       "    <tr>\n",
       "      <th>4543485</th>\n",
       "      <td>metal banding dispesor</td>\n",
       "      <td>ID_269567289</td>\n",
       "    </tr>\n",
       "  </tbody>\n",
       "</table>\n",
       "</div>"
      ],
      "text/plain": [
       "                                               search_term         class\n",
       "520101    bulkhead air fitting,11g338,2019-11-13 14:55:...  ID_478704241\n",
       "5846546                                        ductless sp  ID_603406551\n",
       "4638134                rheem pressure switch 0.35\" pf spst  ID_832485429\n",
       "3773803                                       9w fan motor  ID_680112272\n",
       "2454892                                 ss compression tee  ID_946477099\n",
       "3323492                               1/2\" x 1.25\" reducer  ID_946477099\n",
       "1249856          3/4 spiral fluted tapered chucking reamer  ID_285483094\n",
       "1724608                         irwin 5/32 screw extractor  ID_787114333\n",
       "3458309                             12 mm compress fitting  ID_946477099\n",
       "554619                                               sf-43    ID_6076552\n",
       "5880009                                       press 1\" tee  ID_946477099\n",
       "2953889                1/8\" female pipe x 1/8\" female pipe  ID_946477099\n",
       "5993923  building wire with thhn wire type and 12 awg w...  ID_722034336\n",
       "1521719                                button head coupler  ID_425375100\n",
       "359109                      stainless 1/2 inch turnbuckles  ID_818742522\n",
       "5857334                          ph buffer solution gallon    ID_4186269\n",
       "6006641                             heat shrink pipe clamp  ID_408502959\n",
       "1495941                                       barrel carts  ID_537581993\n",
       "2854915                             bell and gosset spring  ID_348174888\n",
       "4682361                               hobbs 12v hour meter  ID_337225844\n",
       "873277                                seculife st base(25)  ID_710552567\n",
       "4553790                                         versa-king  ID_699945089\n",
       "959447                                            ty2002-3  ID_209028105\n",
       "4596354  steel contact burnisher file extra sensitive o...  ID_699068447\n",
       "4543485                             metal banding dispesor  ID_269567289"
      ]
     },
     "execution_count": 5,
     "metadata": {},
     "output_type": "execute_result"
    }
   ],
   "source": [
    "searches_class.sample(25)"
   ]
  },
  {
   "attachments": {},
   "cell_type": "markdown",
   "metadata": {},
   "source": [
    "### Class Exploration"
   ]
  },
  {
   "cell_type": "code",
   "execution_count": 6,
   "metadata": {},
   "outputs": [],
   "source": [
    "# overall searches\n",
    "class_size = searches_class.groupby('class') \\\n",
    "    .agg(search_term_count=('search_term', 'count')) \\\n",
    "    .sort_values('search_term_count', ascending=True)\n",
    "\n",
    "# unique searches\n",
    "class_size_unique = searches_class.groupby('class') \\\n",
    "    .agg(search_term_count=('search_term', 'nunique')) \\\n",
    "    .sort_values('search_term_count', ascending=True)"
   ]
  },
  {
   "cell_type": "code",
   "execution_count": 7,
   "metadata": {},
   "outputs": [
    {
     "name": "stderr",
     "output_type": "stream",
     "text": [
      "FutureWarning: The default dtype for empty Series will be 'object' instead of 'float64' in a future version. Specify a dtype explicitly to silence this warning.\n"
     ]
    },
    {
     "data": {
      "text/plain": [
       "0"
      ]
     },
     "execution_count": 7,
     "metadata": {},
     "output_type": "execute_result"
    }
   ],
   "source": [
    "# all of the raw search texts are unique b/c sum of differences is zero\n",
    "(class_size['search_term_count'] - class_size_unique['search_term_count']).apply(lambda x: abs(x)).sum()"
   ]
  },
  {
   "cell_type": "code",
   "execution_count": 8,
   "metadata": {},
   "outputs": [
    {
     "data": {
      "text/plain": [
       "Text(0.5, 0, 'Size of Classes')"
      ]
     },
     "execution_count": 8,
     "metadata": {},
     "output_type": "execute_result"
    },
    {
     "data": {
      "image/png": "[encoded data removed]",
      "text/plain": [
       "<Figure size 640x480 with 1 Axes>"
      ]
     },
     "metadata": {},
     "output_type": "display_data"
    }
   ],
   "source": [
    "sns.histplot(class_size, legend=False, kde=True)\n",
    "plt.title(\"Distrubtion of Size of Classes\")\n",
    "plt.ylabel(\"Count of Classes\")\n",
    "plt.xlabel(\"Size of Classes\")"
   ]
  },
  {
   "cell_type": "code",
   "execution_count": 9,
   "metadata": {},
   "outputs": [
    {
     "data": {
      "text/html": [
       "<div>\n",
       "<style scoped>\n",
       "    .dataframe tbody tr th:only-of-type {\n",
       "        vertical-align: middle;\n",
       "    }\n",
       "\n",
       "    .dataframe tbody tr th {\n",
       "        vertical-align: top;\n",
       "    }\n",
       "\n",
       "    .dataframe thead th {\n",
       "        text-align: right;\n",
       "    }\n",
       "</style>\n",
       "<table border=\"1\" class=\"dataframe\">\n",
       "  <thead>\n",
       "    <tr style=\"text-align: right;\">\n",
       "      <th></th>\n",
       "      <th>search_term_count</th>\n",
       "    </tr>\n",
       "  </thead>\n",
       "  <tbody>\n",
       "    <tr>\n",
       "      <th>count</th>\n",
       "      <td>485.000000</td>\n",
       "    </tr>\n",
       "    <tr>\n",
       "      <th>mean</th>\n",
       "      <td>12636.140206</td>\n",
       "    </tr>\n",
       "    <tr>\n",
       "      <th>std</th>\n",
       "      <td>26215.519729</td>\n",
       "    </tr>\n",
       "    <tr>\n",
       "      <th>min</th>\n",
       "      <td>1.000000</td>\n",
       "    </tr>\n",
       "    <tr>\n",
       "      <th>25%</th>\n",
       "      <td>1248.000000</td>\n",
       "    </tr>\n",
       "    <tr>\n",
       "      <th>50%</th>\n",
       "      <td>4258.000000</td>\n",
       "    </tr>\n",
       "    <tr>\n",
       "      <th>75%</th>\n",
       "      <td>12274.000000</td>\n",
       "    </tr>\n",
       "    <tr>\n",
       "      <th>max</th>\n",
       "      <td>283833.000000</td>\n",
       "    </tr>\n",
       "  </tbody>\n",
       "</table>\n",
       "</div>"
      ],
      "text/plain": [
       "       search_term_count\n",
       "count         485.000000\n",
       "mean        12636.140206\n",
       "std         26215.519729\n",
       "min             1.000000\n",
       "25%          1248.000000\n",
       "50%          4258.000000\n",
       "75%         12274.000000\n",
       "max        283833.000000"
      ]
     },
     "execution_count": 9,
     "metadata": {},
     "output_type": "execute_result"
    }
   ],
   "source": [
    "# classes vary from size of 283k search terms to one search term\n",
    "class_size.describe()"
   ]
  },
  {
   "cell_type": "code",
   "execution_count": 10,
   "metadata": {},
   "outputs": [
    {
     "data": {
      "text/html": [
       "<div>\n",
       "<style scoped>\n",
       "    .dataframe tbody tr th:only-of-type {\n",
       "        vertical-align: middle;\n",
       "    }\n",
       "\n",
       "    .dataframe tbody tr th {\n",
       "        vertical-align: top;\n",
       "    }\n",
       "\n",
       "    .dataframe thead th {\n",
       "        text-align: right;\n",
       "    }\n",
       "</style>\n",
       "<table border=\"1\" class=\"dataframe\">\n",
       "  <thead>\n",
       "    <tr style=\"text-align: right;\">\n",
       "      <th></th>\n",
       "      <th>search_term_count</th>\n",
       "    </tr>\n",
       "    <tr>\n",
       "      <th>class</th>\n",
       "      <th></th>\n",
       "    </tr>\n",
       "  </thead>\n",
       "  <tbody>\n",
       "    <tr>\n",
       "      <th>ID_223719075</th>\n",
       "      <td>1</td>\n",
       "    </tr>\n",
       "    <tr>\n",
       "      <th>ID_971210579</th>\n",
       "      <td>1</td>\n",
       "    </tr>\n",
       "    <tr>\n",
       "      <th>ID_817600387</th>\n",
       "      <td>1</td>\n",
       "    </tr>\n",
       "    <tr>\n",
       "      <th>ID_82032374</th>\n",
       "      <td>1</td>\n",
       "    </tr>\n",
       "    <tr>\n",
       "      <th>ID_911331170</th>\n",
       "      <td>3</td>\n",
       "    </tr>\n",
       "  </tbody>\n",
       "</table>\n",
       "</div>"
      ],
      "text/plain": [
       "              search_term_count\n",
       "class                          \n",
       "ID_223719075                  1\n",
       "ID_971210579                  1\n",
       "ID_817600387                  1\n",
       "ID_82032374                   1\n",
       "ID_911331170                  3"
      ]
     },
     "metadata": {},
     "output_type": "display_data"
    }
   ],
   "source": [
    "# classes which have only one entry\n",
    "class_single_entry = class_size[class_size['search_term_count'] <= 3] # 1\n",
    "display(class_single_entry)\n",
    "\n",
    "# convert to list for removal\n",
    "class_single_entry = class_single_entry.index.to_list()"
   ]
  },
  {
   "cell_type": "code",
   "execution_count": 11,
   "metadata": {},
   "outputs": [],
   "source": [
    "# remove the classes that have only one entry \n",
    "searches_class = searches_class[~searches_class['class'].isin(class_single_entry)]"
   ]
  },
  {
   "cell_type": "code",
   "execution_count": 12,
   "metadata": {},
   "outputs": [],
   "source": [
    "# remove NAs from X \n",
    "searches_class = searches_class.dropna(subset=['search_term'])"
   ]
  },
  {
   "attachments": {},
   "cell_type": "markdown",
   "metadata": {},
   "source": [
    "### Exploration by Largest, Smallest Class"
   ]
  },
  {
   "cell_type": "code",
   "execution_count": 13,
   "metadata": {},
   "outputs": [
    {
     "data": {
      "text/html": [
       "<div>\n",
       "<style scoped>\n",
       "    .dataframe tbody tr th:only-of-type {\n",
       "        vertical-align: middle;\n",
       "    }\n",
       "\n",
       "    .dataframe tbody tr th {\n",
       "        vertical-align: top;\n",
       "    }\n",
       "\n",
       "    .dataframe thead th {\n",
       "        text-align: right;\n",
       "    }\n",
       "</style>\n",
       "<table border=\"1\" class=\"dataframe\">\n",
       "  <thead>\n",
       "    <tr style=\"text-align: right;\">\n",
       "      <th></th>\n",
       "      <th>search_term_count</th>\n",
       "    </tr>\n",
       "    <tr>\n",
       "      <th>class</th>\n",
       "      <th></th>\n",
       "    </tr>\n",
       "  </thead>\n",
       "  <tbody>\n",
       "    <tr>\n",
       "      <th>ID_223719075</th>\n",
       "      <td>1</td>\n",
       "    </tr>\n",
       "    <tr>\n",
       "      <th>ID_971210579</th>\n",
       "      <td>1</td>\n",
       "    </tr>\n",
       "    <tr>\n",
       "      <th>ID_817600387</th>\n",
       "      <td>1</td>\n",
       "    </tr>\n",
       "    <tr>\n",
       "      <th>ID_82032374</th>\n",
       "      <td>1</td>\n",
       "    </tr>\n",
       "    <tr>\n",
       "      <th>ID_911331170</th>\n",
       "      <td>3</td>\n",
       "    </tr>\n",
       "    <tr>\n",
       "      <th>...</th>\n",
       "      <td>...</td>\n",
       "    </tr>\n",
       "    <tr>\n",
       "      <th>ID_699945089</th>\n",
       "      <td>124288</td>\n",
       "    </tr>\n",
       "    <tr>\n",
       "      <th>ID_40650829</th>\n",
       "      <td>126986</td>\n",
       "    </tr>\n",
       "    <tr>\n",
       "      <th>ID_459833412</th>\n",
       "      <td>191248</td>\n",
       "    </tr>\n",
       "    <tr>\n",
       "      <th>ID_946477099</th>\n",
       "      <td>240845</td>\n",
       "    </tr>\n",
       "    <tr>\n",
       "      <th>ID_699068447</th>\n",
       "      <td>283833</td>\n",
       "    </tr>\n",
       "  </tbody>\n",
       "</table>\n",
       "<p>485 rows x 1 columns</p>\n",
       "</div>"
      ],
      "text/plain": [
       "              search_term_count\n",
       "class                          \n",
       "ID_223719075                  1\n",
       "ID_971210579                  1\n",
       "ID_817600387                  1\n",
       "ID_82032374                   1\n",
       "ID_911331170                  3\n",
       "...                         ...\n",
       "ID_699945089             124288\n",
       "ID_40650829              126986\n",
       "ID_459833412             191248\n",
       "ID_946477099             240845\n",
       "ID_699068447             283833\n",
       "\n",
       "[485 rows x 1 columns]"
      ]
     },
     "execution_count": 13,
     "metadata": {},
     "output_type": "execute_result"
    }
   ],
   "source": [
    "class_size"
   ]
  },
  {
   "cell_type": "code",
   "execution_count": 14,
   "metadata": {},
   "outputs": [
    {
     "data": {
      "text/html": [
       "<div>\n",
       "<style scoped>\n",
       "    .dataframe tbody tr th:only-of-type {\n",
       "        vertical-align: middle;\n",
       "    }\n",
       "\n",
       "    .dataframe tbody tr th {\n",
       "        vertical-align: top;\n",
       "    }\n",
       "\n",
       "    .dataframe thead th {\n",
       "        text-align: right;\n",
       "    }\n",
       "</style>\n",
       "<table border=\"1\" class=\"dataframe\">\n",
       "  <thead>\n",
       "    <tr style=\"text-align: right;\">\n",
       "      <th></th>\n",
       "      <th>search_term</th>\n",
       "      <th>class</th>\n",
       "    </tr>\n",
       "  </thead>\n",
       "  <tbody>\n",
       "    <tr>\n",
       "      <th>5</th>\n",
       "      <td>tag mal</td>\n",
       "      <td>ID_40650829</td>\n",
       "    </tr>\n",
       "    <tr>\n",
       "      <th>300</th>\n",
       "      <td>the square sign in</td>\n",
       "      <td>ID_40650829</td>\n",
       "    </tr>\n",
       "    <tr>\n",
       "      <th>630</th>\n",
       "      <td>brother label maker</td>\n",
       "      <td>ID_40650829</td>\n",
       "    </tr>\n",
       "    <tr>\n",
       "      <th>1193</th>\n",
       "      <td>9 sided shape</td>\n",
       "      <td>ID_40650829</td>\n",
       "    </tr>\n",
       "    <tr>\n",
       "      <th>1214</th>\n",
       "      <td>striping bar</td>\n",
       "      <td>ID_40650829</td>\n",
       "    </tr>\n",
       "    <tr>\n",
       "      <th>1519</th>\n",
       "      <td>slow moving vehicle sign</td>\n",
       "      <td>ID_40650829</td>\n",
       "    </tr>\n",
       "    <tr>\n",
       "      <th>1857</th>\n",
       "      <td>label the eye</td>\n",
       "      <td>ID_40650829</td>\n",
       "    </tr>\n",
       "    <tr>\n",
       "      <th>2344</th>\n",
       "      <td>asterisk symbol</td>\n",
       "      <td>ID_40650829</td>\n",
       "    </tr>\n",
       "    <tr>\n",
       "      <th>2345</th>\n",
       "      <td>detour sign</td>\n",
       "      <td>ID_40650829</td>\n",
       "    </tr>\n",
       "    <tr>\n",
       "      <th>2472</th>\n",
       "      <td>brass color</td>\n",
       "      <td>ID_40650829</td>\n",
       "    </tr>\n",
       "    <tr>\n",
       "      <th>2556</th>\n",
       "      <td>led open sign</td>\n",
       "      <td>ID_40650829</td>\n",
       "    </tr>\n",
       "    <tr>\n",
       "      <th>2879</th>\n",
       "      <td>brother label printer</td>\n",
       "      <td>ID_40650829</td>\n",
       "    </tr>\n",
       "    <tr>\n",
       "      <th>3397</th>\n",
       "      <td>brady label maker</td>\n",
       "      <td>ID_40650829</td>\n",
       "    </tr>\n",
       "    <tr>\n",
       "      <th>3487</th>\n",
       "      <td>post anchor</td>\n",
       "      <td>ID_40650829</td>\n",
       "    </tr>\n",
       "    <tr>\n",
       "      <th>4120</th>\n",
       "      <td>safety poster</td>\n",
       "      <td>ID_40650829</td>\n",
       "    </tr>\n",
       "    <tr>\n",
       "      <th>4415</th>\n",
       "      <td>brother p touch tape</td>\n",
       "      <td>ID_40650829</td>\n",
       "    </tr>\n",
       "    <tr>\n",
       "      <th>4416</th>\n",
       "      <td>brother label maker tape</td>\n",
       "      <td>ID_40650829</td>\n",
       "    </tr>\n",
       "    <tr>\n",
       "      <th>4517</th>\n",
       "      <td>u channel steel</td>\n",
       "      <td>ID_40650829</td>\n",
       "    </tr>\n",
       "    <tr>\n",
       "      <th>4548</th>\n",
       "      <td>18x24 poster</td>\n",
       "      <td>ID_40650829</td>\n",
       "    </tr>\n",
       "    <tr>\n",
       "      <th>4715</th>\n",
       "      <td>printer ribbon</td>\n",
       "      <td>ID_40650829</td>\n",
       "    </tr>\n",
       "    <tr>\n",
       "      <th>4791</th>\n",
       "      <td>how to label a letter</td>\n",
       "      <td>ID_40650829</td>\n",
       "    </tr>\n",
       "    <tr>\n",
       "      <th>4800</th>\n",
       "      <td>binder in spanish</td>\n",
       "      <td>ID_40650829</td>\n",
       "    </tr>\n",
       "    <tr>\n",
       "      <th>4804</th>\n",
       "      <td>brady white</td>\n",
       "      <td>ID_40650829</td>\n",
       "    </tr>\n",
       "    <tr>\n",
       "      <th>4830</th>\n",
       "      <td>label in spanish</td>\n",
       "      <td>ID_40650829</td>\n",
       "    </tr>\n",
       "    <tr>\n",
       "      <th>4887</th>\n",
       "      <td>poster in spanish</td>\n",
       "      <td>ID_40650829</td>\n",
       "    </tr>\n",
       "    <tr>\n",
       "      <th>5186</th>\n",
       "      <td>osha poster</td>\n",
       "      <td>ID_40650829</td>\n",
       "    </tr>\n",
       "    <tr>\n",
       "      <th>5549</th>\n",
       "      <td>asterisk sign</td>\n",
       "      <td>ID_40650829</td>\n",
       "    </tr>\n",
       "    <tr>\n",
       "      <th>5550</th>\n",
       "      <td>backlit sign</td>\n",
       "      <td>ID_40650829</td>\n",
       "    </tr>\n",
       "    <tr>\n",
       "      <th>5650</th>\n",
       "      <td>magnetic number</td>\n",
       "      <td>ID_40650829</td>\n",
       "    </tr>\n",
       "    <tr>\n",
       "      <th>5652</th>\n",
       "      <td>outdoor vinyl</td>\n",
       "      <td>ID_40650829</td>\n",
       "    </tr>\n",
       "    <tr>\n",
       "      <th>5735</th>\n",
       "      <td>signal light</td>\n",
       "      <td>ID_40650829</td>\n",
       "    </tr>\n",
       "    <tr>\n",
       "      <th>5789</th>\n",
       "      <td>nfpa label</td>\n",
       "      <td>ID_40650829</td>\n",
       "    </tr>\n",
       "    <tr>\n",
       "      <th>5969</th>\n",
       "      <td>brady black</td>\n",
       "      <td>ID_40650829</td>\n",
       "    </tr>\n",
       "    <tr>\n",
       "      <th>6109</th>\n",
       "      <td>height in spanish</td>\n",
       "      <td>ID_40650829</td>\n",
       "    </tr>\n",
       "    <tr>\n",
       "      <th>6357</th>\n",
       "      <td>label tape</td>\n",
       "      <td>ID_40650829</td>\n",
       "    </tr>\n",
       "    <tr>\n",
       "      <th>6908</th>\n",
       "      <td>acrylic board</td>\n",
       "      <td>ID_40650829</td>\n",
       "    </tr>\n",
       "    <tr>\n",
       "      <th>7119</th>\n",
       "      <td>sign stake</td>\n",
       "      <td>ID_40650829</td>\n",
       "    </tr>\n",
       "    <tr>\n",
       "      <th>7340</th>\n",
       "      <td>ampersand sign</td>\n",
       "      <td>ID_40650829</td>\n",
       "    </tr>\n",
       "    <tr>\n",
       "      <th>7365</th>\n",
       "      <td>brother ql 700</td>\n",
       "      <td>ID_40650829</td>\n",
       "    </tr>\n",
       "    <tr>\n",
       "      <th>7368</th>\n",
       "      <td>tze 231</td>\n",
       "      <td>ID_40650829</td>\n",
       "    </tr>\n",
       "    <tr>\n",
       "      <th>7590</th>\n",
       "      <td>exit in spanish</td>\n",
       "      <td>ID_40650829</td>\n",
       "    </tr>\n",
       "    <tr>\n",
       "      <th>7768</th>\n",
       "      <td>document box</td>\n",
       "      <td>ID_40650829</td>\n",
       "    </tr>\n",
       "    <tr>\n",
       "      <th>7919</th>\n",
       "      <td>service tag</td>\n",
       "      <td>ID_40650829</td>\n",
       "    </tr>\n",
       "    <tr>\n",
       "      <th>7950</th>\n",
       "      <td>fire extinguisher tags</td>\n",
       "      <td>ID_40650829</td>\n",
       "    </tr>\n",
       "    <tr>\n",
       "      <th>8467</th>\n",
       "      <td>binder holder</td>\n",
       "      <td>ID_40650829</td>\n",
       "    </tr>\n",
       "    <tr>\n",
       "      <th>8723</th>\n",
       "      <td>tags printer</td>\n",
       "      <td>ID_40650829</td>\n",
       "    </tr>\n",
       "    <tr>\n",
       "      <th>8727</th>\n",
       "      <td>sign bracket</td>\n",
       "      <td>ID_40650829</td>\n",
       "    </tr>\n",
       "    <tr>\n",
       "      <th>9066</th>\n",
       "      <td>hazard diamond</td>\n",
       "      <td>ID_40650829</td>\n",
       "    </tr>\n",
       "    <tr>\n",
       "      <th>9280</th>\n",
       "      <td>brother label</td>\n",
       "      <td>ID_40650829</td>\n",
       "    </tr>\n",
       "    <tr>\n",
       "      <th>9443</th>\n",
       "      <td>a thru z</td>\n",
       "      <td>ID_40650829</td>\n",
       "    </tr>\n",
       "  </tbody>\n",
       "</table>\n",
       "</div>"
      ],
      "text/plain": [
       "                   search_term        class\n",
       "5                      tag mal  ID_40650829\n",
       "300         the square sign in  ID_40650829\n",
       "630        brother label maker  ID_40650829\n",
       "1193             9 sided shape  ID_40650829\n",
       "1214              striping bar  ID_40650829\n",
       "1519  slow moving vehicle sign  ID_40650829\n",
       "1857             label the eye  ID_40650829\n",
       "2344           asterisk symbol  ID_40650829\n",
       "2345               detour sign  ID_40650829\n",
       "2472               brass color  ID_40650829\n",
       "2556             led open sign  ID_40650829\n",
       "2879     brother label printer  ID_40650829\n",
       "3397         brady label maker  ID_40650829\n",
       "3487               post anchor  ID_40650829\n",
       "4120             safety poster  ID_40650829\n",
       "4415      brother p touch tape  ID_40650829\n",
       "4416  brother label maker tape  ID_40650829\n",
       "4517           u channel steel  ID_40650829\n",
       "4548              18x24 poster  ID_40650829\n",
       "4715            printer ribbon  ID_40650829\n",
       "4791     how to label a letter  ID_40650829\n",
       "4800         binder in spanish  ID_40650829\n",
       "4804               brady white  ID_40650829\n",
       "4830          label in spanish  ID_40650829\n",
       "4887         poster in spanish  ID_40650829\n",
       "5186               osha poster  ID_40650829\n",
       "5549             asterisk sign  ID_40650829\n",
       "5550              backlit sign  ID_40650829\n",
       "5650           magnetic number  ID_40650829\n",
       "5652             outdoor vinyl  ID_40650829\n",
       "5735              signal light  ID_40650829\n",
       "5789                nfpa label  ID_40650829\n",
       "5969               brady black  ID_40650829\n",
       "6109         height in spanish  ID_40650829\n",
       "6357                label tape  ID_40650829\n",
       "6908             acrylic board  ID_40650829\n",
       "7119                sign stake  ID_40650829\n",
       "7340            ampersand sign  ID_40650829\n",
       "7365            brother ql 700  ID_40650829\n",
       "7368                   tze 231  ID_40650829\n",
       "7590           exit in spanish  ID_40650829\n",
       "7768              document box  ID_40650829\n",
       "7919               service tag  ID_40650829\n",
       "7950    fire extinguisher tags  ID_40650829\n",
       "8467             binder holder  ID_40650829\n",
       "8723              tags printer  ID_40650829\n",
       "8727              sign bracket  ID_40650829\n",
       "9066            hazard diamond  ID_40650829\n",
       "9280             brother label  ID_40650829\n",
       "9443                  a thru z  ID_40650829"
      ]
     },
     "execution_count": 14,
     "metadata": {},
     "output_type": "execute_result"
    }
   ],
   "source": [
    "searches_class[searches_class['class'] == 'ID_40650829'].head(50)"
   ]
  },
  {
   "cell_type": "code",
   "execution_count": 15,
   "metadata": {},
   "outputs": [],
   "source": [
    "# how many entries have a special character in them\n",
    "searches_class['contains_special_char'] = searches_class['search_term'].apply(lambda x: str(x).replace(' ', '').isalnum() == False)"
   ]
  },
  {
   "cell_type": "code",
   "execution_count": 16,
   "metadata": {},
   "outputs": [
    {
     "data": {
      "text/plain": [
       "0.2830798817528732"
      ]
     },
     "execution_count": 16,
     "metadata": {},
     "output_type": "execute_result"
    }
   ],
   "source": [
    "# percent of total entries that contain special characters\n",
    "searches_class['contains_special_char'].sum() / len(searches_class)"
   ]
  },
  {
   "cell_type": "code",
   "execution_count": 17,
   "metadata": {},
   "outputs": [
    {
     "name": "stderr",
     "output_type": "stream",
     "text": [
      "FutureWarning: The default dtype for empty Series will be 'object' instead of 'float64' in a future version. Specify a dtype explicitly to silence this warning.\n",
      "FutureWarning: The default dtype for empty Series will be 'object' instead of 'float64' in a future version. Specify a dtype explicitly to silence this warning.\n",
      "FutureWarning: The default dtype for empty Series will be 'object' instead of 'float64' in a future version. Specify a dtype explicitly to silence this warning.\n",
      "FutureWarning: The default dtype for empty Series will be 'object' instead of 'float64' in a future version. Specify a dtype explicitly to silence this warning.\n"
     ]
    }
   ],
   "source": [
    "# by classes that contain special characters\n",
    "special_characters_class = searches_class.groupby('class').agg(n_special_chars=('contains_special_char', 'sum'), n_entries=('contains_special_char', 'count'))\n",
    "special_characters_class = special_characters_class.sort_values('n_special_chars', ascending=True)\n",
    "special_characters_class['class_pct_special_chars'] = (special_characters_class['n_special_chars'] / special_characters_class['n_entries'])*100\n",
    "total_entries = special_characters_class['n_entries'].sum()\n",
    "special_characters_class['class_total_pct_special_chars'] = (special_characters_class['n_special_chars'] / total_entries)*100"
   ]
  },
  {
   "cell_type": "code",
   "execution_count": 18,
   "metadata": {},
   "outputs": [
    {
     "data": {
      "text/html": [
       "<div>\n",
       "<style scoped>\n",
       "    .dataframe tbody tr th:only-of-type {\n",
       "        vertical-align: middle;\n",
       "    }\n",
       "\n",
       "    .dataframe tbody tr th {\n",
       "        vertical-align: top;\n",
       "    }\n",
       "\n",
       "    .dataframe thead th {\n",
       "        text-align: right;\n",
       "    }\n",
       "</style>\n",
       "<table border=\"1\" class=\"dataframe\">\n",
       "  <thead>\n",
       "    <tr style=\"text-align: right;\">\n",
       "      <th></th>\n",
       "      <th>n_special_chars</th>\n",
       "      <th>n_entries</th>\n",
       "      <th>class_pct_special_chars</th>\n",
       "      <th>class_total_pct_special_chars</th>\n",
       "    </tr>\n",
       "  </thead>\n",
       "  <tbody>\n",
       "    <tr>\n",
       "      <th>count</th>\n",
       "      <td>480.000000</td>\n",
       "      <td>480.000000</td>\n",
       "      <td>480.000000</td>\n",
       "      <td>480.000000</td>\n",
       "    </tr>\n",
       "    <tr>\n",
       "      <th>mean</th>\n",
       "      <td>3614.293750</td>\n",
       "      <td>12767.752083</td>\n",
       "      <td>22.749587</td>\n",
       "      <td>0.058975</td>\n",
       "    </tr>\n",
       "    <tr>\n",
       "      <th>std</th>\n",
       "      <td>10324.166782</td>\n",
       "      <td>26320.022781</td>\n",
       "      <td>13.354090</td>\n",
       "      <td>0.168461</td>\n",
       "    </tr>\n",
       "    <tr>\n",
       "      <th>min</th>\n",
       "      <td>0.000000</td>\n",
       "      <td>4.000000</td>\n",
       "      <td>0.000000</td>\n",
       "      <td>0.000000</td>\n",
       "    </tr>\n",
       "    <tr>\n",
       "      <th>25%</th>\n",
       "      <td>199.750000</td>\n",
       "      <td>1282.250000</td>\n",
       "      <td>13.390248</td>\n",
       "      <td>0.003259</td>\n",
       "    </tr>\n",
       "    <tr>\n",
       "      <th>50%</th>\n",
       "      <td>888.500000</td>\n",
       "      <td>4423.000000</td>\n",
       "      <td>18.796025</td>\n",
       "      <td>0.014498</td>\n",
       "    </tr>\n",
       "    <tr>\n",
       "      <th>75%</th>\n",
       "      <td>2979.750000</td>\n",
       "      <td>12352.500000</td>\n",
       "      <td>28.221045</td>\n",
       "      <td>0.048621</td>\n",
       "    </tr>\n",
       "    <tr>\n",
       "      <th>max</th>\n",
       "      <td>153662.000000</td>\n",
       "      <td>283833.000000</td>\n",
       "      <td>71.289971</td>\n",
       "      <td>2.507326</td>\n",
       "    </tr>\n",
       "  </tbody>\n",
       "</table>\n",
       "</div>"
      ],
      "text/plain": [
       "       n_special_chars      n_entries  class_pct_special_chars  \\\n",
       "count       480.000000     480.000000               480.000000   \n",
       "mean       3614.293750   12767.752083                22.749587   \n",
       "std       10324.166782   26320.022781                13.354090   \n",
       "min           0.000000       4.000000                 0.000000   \n",
       "25%         199.750000    1282.250000                13.390248   \n",
       "50%         888.500000    4423.000000                18.796025   \n",
       "75%        2979.750000   12352.500000                28.221045   \n",
       "max      153662.000000  283833.000000                71.289971   \n",
       "\n",
       "       class_total_pct_special_chars  \n",
       "count                     480.000000  \n",
       "mean                        0.058975  \n",
       "std                         0.168461  \n",
       "min                         0.000000  \n",
       "25%                         0.003259  \n",
       "50%                         0.014498  \n",
       "75%                         0.048621  \n",
       "max                         2.507326  "
      ]
     },
     "execution_count": 18,
     "metadata": {},
     "output_type": "execute_result"
    }
   ],
   "source": [
    "# 22% of each class, on average, contains special characters\n",
    "special_characters_class.describe()"
   ]
  },
  {
   "cell_type": "code",
   "execution_count": 19,
   "metadata": {},
   "outputs": [
    {
     "data": {
      "text/plain": [
       "['n_special_chars',\n",
       " 'n_entries',\n",
       " 'class_pct_special_chars',\n",
       " 'class_total_pct_special_chars']"
      ]
     },
     "execution_count": 19,
     "metadata": {},
     "output_type": "execute_result"
    }
   ],
   "source": [
    "special_characters_class.columns.to_list()"
   ]
  },
  {
   "cell_type": "code",
   "execution_count": 20,
   "metadata": {},
   "outputs": [
    {
     "name": "stderr",
     "output_type": "stream",
     "text": [
      "2023-07-05 03:10:28,440 - distributed.worker - ERROR - Exception during execution of task lambda-47092cd5b1a5593ac016f2fa9bb3ace1.\n",
      "Traceback (most recent call last):\n",
      "  File \"/home/programming/miniconda3/envs/grainger/lib/python3.10/site-packages/zict/buffer.py\", line 184, in __getitem__\n",
      "    return self.fast[key]\n",
      "  File \"/home/programming/miniconda3/envs/grainger/lib/python3.10/site-packages/zict/common.py\", line 127, in wrapper\n",
      "    return func(*args, **kwargs)\n",
      "  File \"/home/programming/miniconda3/envs/grainger/lib/python3.10/site-packages/zict/lru.py\", line 117, in __getitem__\n",
      "    result = self.d[key]\n",
      "KeyError: 'apply_list_of_funcs-0522a176-54df-4e17-abd8-a11d15c5e2dc'\n",
      "\n",
      "During handling of the above exception, another exception occurred:\n",
      "\n",
      "Traceback (most recent call last):\n",
      "  File \"/home/programming/miniconda3/envs/grainger/lib/python3.10/site-packages/distributed/worker.py\", line 2390, in _prepare_args_for_execution\n",
      "    data[k] = self.data[k]\n",
      "  File \"/home/programming/miniconda3/envs/grainger/lib/python3.10/site-packages/distributed/spill.py\", line 216, in __getitem__\n",
      "    return super().__getitem__(key)\n",
      "  File \"/home/programming/miniconda3/envs/grainger/lib/python3.10/site-packages/zict/common.py\", line 127, in wrapper\n",
      "    return func(*args, **kwargs)\n",
      "  File \"/home/programming/miniconda3/envs/grainger/lib/python3.10/site-packages/zict/buffer.py\", line 186, in __getitem__\n",
      "    return self.slow_to_fast(key)\n",
      "  File \"/home/programming/miniconda3/envs/grainger/lib/python3.10/site-packages/zict/buffer.py\", line 153, in slow_to_fast\n",
      "    value = self.slow[key]\n",
      "  File \"/home/programming/miniconda3/envs/grainger/lib/python3.10/site-packages/zict/common.py\", line 127, in wrapper\n",
      "    return func(*args, **kwargs)\n",
      "  File \"/home/programming/miniconda3/envs/grainger/lib/python3.10/site-packages/zict/cache.py\", line 67, in __getitem__\n",
      "    gen = self._last_updated[key]\n",
      "KeyError: 'apply_list_of_funcs-0522a176-54df-4e17-abd8-a11d15c5e2dc'\n",
      "\n",
      "During handling of the above exception, another exception occurred:\n",
      "\n",
      "Traceback (most recent call last):\n",
      "  File \"/home/programming/miniconda3/envs/grainger/lib/python3.10/site-packages/distributed/worker.py\", line 2254, in execute\n",
      "    args2, kwargs2 = self._prepare_args_for_execution(ts, args, kwargs)\n",
      "  File \"/home/programming/miniconda3/envs/grainger/lib/python3.10/site-packages/distributed/worker.py\", line 2394, in _prepare_args_for_execution\n",
      "    data[k] = Actor(type(self.state.actors[k]), self.address, k, self)\n",
      "KeyError: 'apply_list_of_funcs-0522a176-54df-4e17-abd8-a11d15c5e2dc'\n"
     ]
    },
    {
     "data": {
      "image/png": "[encoded data removed]",
      "text/plain": [
       "<Figure size 640x480 with 1 Axes>"
      ]
     },
     "metadata": {},
     "output_type": "display_data"
    },
    {
     "data": {
      "image/png": "[encoded data removed]",
      "text/plain": [
       "<Figure size 640x480 with 1 Axes>"
      ]
     },
     "metadata": {},
     "output_type": "display_data"
    },
    {
     "data": {
      "image/png": "[encoded data removed]",
      "text/plain": [
       "<Figure size 640x480 with 1 Axes>"
      ]
     },
     "metadata": {},
     "output_type": "display_data"
    },
    {
     "data": {
      "image/png": "[encoded data removed]",
      "text/plain": [
       "<Figure size 640x480 with 1 Axes>"
      ]
     },
     "metadata": {},
     "output_type": "display_data"
    }
   ],
   "source": [
    "for col in special_characters_class.columns.to_list():\n",
    "    sns.histplot(special_characters_class[[col]], kde=True)\n",
    "    plt.title(col)\n",
    "    plt.show()"
   ]
  },
  {
   "attachments": {},
   "cell_type": "markdown",
   "metadata": {},
   "source": [
    "# Break Data into Training and Testing Split"
   ]
  },
  {
   "cell_type": "code",
   "execution_count": 21,
   "metadata": {},
   "outputs": [
    {
     "name": "stderr",
     "output_type": "stream",
     "text": [
      "[nltk_data] Downloading package stopwords to\n",
      "[nltk_data]     /home/programming/nltk_data...\n",
      "[nltk_data]   Package stopwords is already up-to-date!\n"
     ]
    }
   ],
   "source": [
    "# columns of interest\n",
    "x_col = 'search_term'\n",
    "y_col = 'class'\n",
    "\n",
    "from preprocess import split_data, encode_classes, get_stopwords, get_word_occur\n",
    "from preprocess import SearchAnalyzer\n",
    "from utils import save_pickle_file\n",
    "\n",
    "stop_words = get_stopwords()\n",
    "\n",
    "x_train, x_test, y_train, y_test = split_data(\n",
    "    x_data=searches_class[x_col],\n",
    "    y_data=searches_class[y_col], \n",
    "    stratify=searches_class['class'], \n",
    "    test_size=0.2)"
   ]
  },
  {
   "cell_type": "code",
   "execution_count": 45,
   "metadata": {},
   "outputs": [],
   "source": [
    "from preprocess import SearchAnalyzer"
   ]
  },
  {
   "cell_type": "code",
   "execution_count": 22,
   "metadata": {},
   "outputs": [],
   "source": [
    "y_encodings, y_decodings = encode_classes(searches_class[y_col].unique())"
   ]
  },
  {
   "cell_type": "code",
   "execution_count": 23,
   "metadata": {},
   "outputs": [
    {
     "data": {
      "text/plain": [
       "1455320                                    m143 metal halide\n",
       "3050884                                    20x25x2air filter\n",
       "2829770                                   fs 25 lamp starter\n",
       "5895206          2 1/2\" gravity roller 49\" bf 7/16 hex shaft\n",
       "5546097                       1 1/4\" x 1/2\" reducer coupling\n",
       "                                 ...                        \n",
       "5633023                                         door handles\n",
       "1749714    13.0 watts plug-in cfl pl-s 2-pin (gx23) 825 l...\n",
       "5273967                                         wheel 4.00-8\n",
       "3155102                                        5kcp39hgr272s\n",
       "2162865                          fp301-1/8-48\"-clear-250 pcs\n",
       "Name: search_term, Length: 4902816, dtype: object"
      ]
     },
     "execution_count": 23,
     "metadata": {},
     "output_type": "execute_result"
    }
   ],
   "source": [
    "# send data to the database\n",
    "x_train.to_sql('x_train_og', con=conn)\n",
    "x_test.to_sql('x_test_og', con=conn)\n",
    "\n",
    "y_train.to_sql('y_train_og', con=conn)\n",
    "y_test.to_sql('y_test_og', con=conn)\n",
    "\n",
    "# save out encoding and decodings as pickle files\n",
    "save_pickle_file(y_encodings, '../data/y_encodings.pkl')\n",
    "save_pickle_file(y_decodings, '../data/y_decodings.pkl')"
   ]
  },
  {
   "cell_type": "code",
   "execution_count": 49,
   "metadata": {},
   "outputs": [
    {
     "name": "stdout",
     "output_type": "stream",
     "text": [
      "Getting word occurance.\n"
     ]
    },
    {
     "name": "stderr",
     "output_type": "stream",
     "text": [
      "FutureWarning: The `inplace` parameter in pandas.Categorical.rename_categories is deprecated and will be removed in a future version. Removing unused categories will always return a new Categorical object.\n"
     ]
    },
    {
     "data": {
      "image/png": "[encoded data removed]",
      "text/plain": [
       "<Figure size 640x480 with 1 Axes>"
      ]
     },
     "metadata": {},
     "output_type": "display_data"
    },
    {
     "data": {
      "text/html": [
       "<div>\n",
       "<style scoped>\n",
       "    .dataframe tbody tr th:only-of-type {\n",
       "        vertical-align: middle;\n",
       "    }\n",
       "\n",
       "    .dataframe tbody tr th {\n",
       "        vertical-align: top;\n",
       "    }\n",
       "\n",
       "    .dataframe thead th {\n",
       "        text-align: right;\n",
       "    }\n",
       "</style>\n",
       "<table border=\"1\" class=\"dataframe\">\n",
       "  <thead>\n",
       "    <tr style=\"text-align: right;\">\n",
       "      <th></th>\n",
       "      <th>bucket_count</th>\n",
       "    </tr>\n",
       "    <tr>\n",
       "      <th>count_bucket</th>\n",
       "      <th></th>\n",
       "    </tr>\n",
       "  </thead>\n",
       "  <tbody>\n",
       "    <tr>\n",
       "      <th>1</th>\n",
       "      <td>1987310</td>\n",
       "    </tr>\n",
       "    <tr>\n",
       "      <th>2</th>\n",
       "      <td>374569</td>\n",
       "    </tr>\n",
       "    <tr>\n",
       "      <th>3</th>\n",
       "      <td>156265</td>\n",
       "    </tr>\n",
       "    <tr>\n",
       "      <th>4</th>\n",
       "      <td>86421</td>\n",
       "    </tr>\n",
       "    <tr>\n",
       "      <th>5</th>\n",
       "      <td>55758</td>\n",
       "    </tr>\n",
       "    <tr>\n",
       "      <th>5-10</th>\n",
       "      <td>133470</td>\n",
       "    </tr>\n",
       "    <tr>\n",
       "      <th>10+</th>\n",
       "      <td>126864</td>\n",
       "    </tr>\n",
       "  </tbody>\n",
       "</table>\n",
       "</div>"
      ],
      "text/plain": [
       "              bucket_count\n",
       "count_bucket              \n",
       "1                  1987310\n",
       "2                   374569\n",
       "3                   156265\n",
       "4                    86421\n",
       "5                    55758\n",
       "5-10                133470\n",
       "10+                 126864"
      ]
     },
     "execution_count": 49,
     "metadata": {},
     "output_type": "execute_result"
    }
   ],
   "source": [
    "analyzer = SearchAnalyzer(\n",
    "    corpus=x_train,\n",
    "    stopwords=stop_words\n",
    ")\n",
    "analyzer.get_word_occur(ngram_range=(2,2))\n",
    "analyzer.bin_counts() # standard settings\n",
    "analyzer.visualize() # also return the dataframe"
   ]
  },
  {
   "cell_type": "code",
   "execution_count": 29,
   "metadata": {},
   "outputs": [
    {
     "name": "stderr",
     "output_type": "stream",
     "text": [
      "UserWarning: Distributing <class 'list'> object. This may take some time.\n"
     ]
    }
   ],
   "source": [
    "# get the count of all of the words so that way we can remove anything that is \n",
    "# not a frequent enough word for modeling\n",
    "#word_counts = get_word_occur(x_train, stopwords.words('english'))\n",
    "word_counts = get_word_occur(x_train, stop_words, ngram_range=(2,2))\n",
    "\n",
    "# TODO: analysis for multiple engram types (1, 2, 3 )"
   ]
  },
  {
   "cell_type": "code",
   "execution_count": 31,
   "metadata": {},
   "outputs": [
    {
     "name": "stderr",
     "output_type": "stream",
     "text": [
      "UserWarning: squeeze_and_cut is not currently supported by PandasOnDask, defaulting to pandas implementation.\n",
      "UserWarning: `Series.<lambda>` is not currently supported by PandasOnDask, defaulting to pandas implementation.\n",
      "FutureWarning: The `inplace` parameter in pandas.Categorical.rename_categories is deprecated and will be removed in a future version. Removing unused categories will always return a new Categorical object.\n",
      "UserWarning: Distributing <class 'pandas.core.series.Series'> object. This may take some time.\n"
     ]
    },
    {
     "data": {
      "text/plain": [
       "0          10+\n",
       "1          10+\n",
       "2          10+\n",
       "3          10+\n",
       "4          10+\n",
       "          ... \n",
       "2920652      1\n",
       "2920653      1\n",
       "2920654      1\n",
       "2920655      1\n",
       "2920656      1\n",
       "Name: count_bucket, Length: 2920657, dtype: category\n",
       "Categories (7, object): ['1' < '2' < '3' < '4' < '5' < '5-10' < '10+']"
      ]
     },
     "execution_count": 31,
     "metadata": {},
     "output_type": "execute_result"
    }
   ],
   "source": [
    "bin_tuples = [(0, 1), (1, 2), (2, 3), (3, 4), (4, 5), (5, 11), (11, len(word_counts))]\n",
    "bins = pd.IntervalIndex.from_tuples(bin_tuples)\n",
    "labels = [\n",
    "    '1',\n",
    "    '2',\n",
    "    '3',\n",
    "    '4',\n",
    "    '5',\n",
    "    '5-10',\n",
    "    '10+'\n",
    "]\n",
    "\n",
    "\n",
    "word_counts['count_bucket'] = pd.cut(word_counts['count'], bins, labels=labels, right=True)#.fillna(leftover_label)\n",
    "word_counts['count_bucket'].cat.rename_categories(labels, inplace=True)\n",
    "word_counts['count_bucket']"
   ]
  },
  {
   "cell_type": "code",
   "execution_count": 32,
   "metadata": {},
   "outputs": [
    {
     "data": {
      "text/html": [
       "<div>\n",
       "<style scoped>\n",
       "    .dataframe tbody tr th:only-of-type {\n",
       "        vertical-align: middle;\n",
       "    }\n",
       "\n",
       "    .dataframe tbody tr th {\n",
       "        vertical-align: top;\n",
       "    }\n",
       "\n",
       "    .dataframe thead th {\n",
       "        text-align: right;\n",
       "    }\n",
       "</style>\n",
       "<table border=\"1\" class=\"dataframe\">\n",
       "  <thead>\n",
       "    <tr style=\"text-align: right;\">\n",
       "      <th></th>\n",
       "      <th>bucket_count</th>\n",
       "    </tr>\n",
       "    <tr>\n",
       "      <th>count_bucket</th>\n",
       "      <th></th>\n",
       "    </tr>\n",
       "  </thead>\n",
       "  <tbody>\n",
       "    <tr>\n",
       "      <th>1</th>\n",
       "      <td>1987310</td>\n",
       "    </tr>\n",
       "    <tr>\n",
       "      <th>2</th>\n",
       "      <td>374569</td>\n",
       "    </tr>\n",
       "    <tr>\n",
       "      <th>3</th>\n",
       "      <td>156265</td>\n",
       "    </tr>\n",
       "    <tr>\n",
       "      <th>4</th>\n",
       "      <td>86421</td>\n",
       "    </tr>\n",
       "    <tr>\n",
       "      <th>5</th>\n",
       "      <td>55758</td>\n",
       "    </tr>\n",
       "    <tr>\n",
       "      <th>5-10</th>\n",
       "      <td>133470</td>\n",
       "    </tr>\n",
       "    <tr>\n",
       "      <th>10+</th>\n",
       "      <td>126864</td>\n",
       "    </tr>\n",
       "  </tbody>\n",
       "</table>\n",
       "</div>"
      ],
      "text/plain": [
       "              bucket_count\n",
       "count_bucket              \n",
       "1                  1987310\n",
       "2                   374569\n",
       "3                   156265\n",
       "4                    86421\n",
       "5                    55758\n",
       "5-10                133470\n",
       "10+                 126864"
      ]
     },
     "execution_count": 32,
     "metadata": {},
     "output_type": "execute_result"
    }
   ],
   "source": [
    "# get summary count\n",
    "word_counts = word_counts.groupby('count_bucket').agg(bucket_count=('count_bucket', 'count'))\n",
    "word_counts"
   ]
  },
  {
   "cell_type": "code",
   "execution_count": 33,
   "metadata": {},
   "outputs": [
    {
     "data": {
      "image/png": "[encoded data removed]",
      "text/plain": [
       "<Figure size 640x480 with 1 Axes>"
      ]
     },
     "metadata": {},
     "output_type": "display_data"
    }
   ],
   "source": [
    "word_counts.plot(kind='bar', legend=False)\n",
    "plt.xlabel(\"Bucket of Word Counts\")\n",
    "plt.ylabel(\"Number of Unique Words in the Bucket\")\n",
    "plt.title(\"Number of Words By Their Occurrence\")\n",
    "plt.show()"
   ]
  },
  {
   "attachments": {},
   "cell_type": "markdown",
   "metadata": {},
   "source": [
    "# Count Vectorizer With Limits"
   ]
  },
  {
   "cell_type": "code",
   "execution_count": 34,
   "metadata": {},
   "outputs": [],
   "source": [
    "cv = CountVectorizer(\n",
    "    stop_words=stopwords.words('english'), \n",
    "    min_df=3 # ignore words that occur less than this in searches\n",
    "    # max_df= # ignore words that occur MORE than this in the searches\n",
    "    )\n",
    "x_train_cvec = cv.fit_transform(list(x_train.values))\n",
    "x_test_cvec = cv.transform(x_test)"
   ]
  },
  {
   "cell_type": "code",
   "execution_count": 35,
   "metadata": {},
   "outputs": [
    {
     "name": "stderr",
     "output_type": "stream",
     "text": [
      "UserWarning: <function Series.tolist> is not currently supported by PandasOnDask, defaulting to pandas implementation.\n",
      "UserWarning: <function Series.tolist> is not currently supported by PandasOnDask, defaulting to pandas implementation.\n"
     ]
    }
   ],
   "source": [
    "y_train_encode = [y_encodings[i] for i in y_train.to_list()]\n",
    "y_test_encode = [y_encodings[i] for i in y_test.to_list()]"
   ]
  }
 ],
 "metadata": {
  "kernelspec": {
   "display_name": "grainger",
   "language": "python",
   "name": "python3"
  },
  "language_info": {
   "codemirror_mode": {
    "name": "ipython",
    "version": 3
   },
   "file_extension": ".py",
   "mimetype": "text/x-python",
   "name": "python",
   "nbconvert_exporter": "python",
   "pygments_lexer": "ipython3",
   "version": "3.10.11"
  },
  "orig_nbformat": 4
 },
 "nbformat": 4,
 "nbformat_minor": 2
}
